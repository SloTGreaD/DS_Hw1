{
  "nbformat": 4,
  "nbformat_minor": 0,
  "metadata": {
    "colab": {
      "provenance": []
    },
    "kernelspec": {
      "name": "python3",
      "display_name": "Python 3"
    },
    "language_info": {
      "name": "python"
    }
  },
  "cells": [
    {
      "cell_type": "code",
      "execution_count": 1,
      "metadata": {
        "colab": {
          "base_uri": "https://localhost:8080/"
        },
        "collapsed": true,
        "id": "4otSsfXIqMSg",
        "outputId": "20890a49-40c9-4457-900f-9e398931b480"
      },
      "outputs": [
        {
          "output_type": "stream",
          "name": "stdout",
          "text": [
            "[ 1  2  3  4  5  6  7  8  9 10]\n"
          ]
        }
      ],
      "source": [
        "import numpy as np\n",
        "a = np.arange(1, 11)\n",
        "print(a)"
      ]
    },
    {
      "cell_type": "code",
      "source": [
        "import numpy as np\n",
        "a = np.zeros((3, 3))\n",
        "print(a)"
      ],
      "metadata": {
        "colab": {
          "base_uri": "https://localhost:8080/"
        },
        "collapsed": true,
        "id": "1LNWUwG9rBbC",
        "outputId": "00634759-f079-432d-86cc-8388c26e9065"
      },
      "execution_count": 4,
      "outputs": [
        {
          "output_type": "stream",
          "name": "stdout",
          "text": [
            "[[0. 0. 0.]\n",
            " [0. 0. 0.]\n",
            " [0. 0. 0.]\n",
            " [0. 0. 0.]]\n"
          ]
        }
      ]
    },
    {
      "cell_type": "code",
      "source": [
        "import numpy as np\n",
        "a = np.random.randint(1, 11, size=(5, 5))\n",
        "print(a)"
      ],
      "metadata": {
        "colab": {
          "base_uri": "https://localhost:8080/"
        },
        "collapsed": true,
        "id": "2DphHYuarL5J",
        "outputId": "ef6777c2-6478-44e1-a65e-6df1fec32fa3"
      },
      "execution_count": 7,
      "outputs": [
        {
          "output_type": "stream",
          "name": "stdout",
          "text": [
            "[[ 6  9  6  9  5]\n",
            " [ 2 10  3  2  6]\n",
            " [ 9  7  1  6  2]\n",
            " [ 6  8  8  9  6]\n",
            " [ 8  4 10  5  3]]\n"
          ]
        }
      ]
    },
    {
      "cell_type": "code",
      "source": [
        "import numpy as np\n",
        "a = np.random.rand(4, 4)\n",
        "print(a)"
      ],
      "metadata": {
        "colab": {
          "base_uri": "https://localhost:8080/"
        },
        "collapsed": true,
        "id": "I9jZVfYVsCTF",
        "outputId": "b1fe57fe-ca0e-4dde-ebf5-5cf404377822"
      },
      "execution_count": 13,
      "outputs": [
        {
          "output_type": "stream",
          "name": "stdout",
          "text": [
            "[[0.24851408 0.68114286 0.36236291 0.81572852]\n",
            " [0.86213126 0.53080242 0.19435586 0.53920863]\n",
            " [0.20248875 0.26849451 0.02147422 0.40114655]\n",
            " [0.79035062 0.64359354 0.03602578 0.9047276 ]]\n"
          ]
        }
      ]
    },
    {
      "cell_type": "code",
      "source": [
        "import numpy as np\n",
        "a = np.random.randint(1, 11, size=5)\n",
        "b = np.random.randint(1, 11, size=5)\n",
        "addition = a + b\n",
        "subtraction = a - b\n",
        "multiplication = a * b\n",
        "print(addition)\n",
        "print(subtraction)\n",
        "print(multiplication)"
      ],
      "metadata": {
        "colab": {
          "base_uri": "https://localhost:8080/"
        },
        "collapsed": true,
        "id": "wF2arcfmuvNO",
        "outputId": "011f1cf7-7ced-4fdc-ff75-756882084be6"
      },
      "execution_count": 15,
      "outputs": [
        {
          "output_type": "stream",
          "name": "stdout",
          "text": [
            "[11  9 19  9 10]\n",
            "[-7 -5 -1  7  0]\n",
            "[18 14 90  8 25]\n"
          ]
        }
      ]
    },
    {
      "cell_type": "code",
      "source": [
        "import numpy as np\n",
        "a = np.random.rand(7)\n",
        "b = np.random.rand(7)\n",
        "print(np.dot(a, b))"
      ],
      "metadata": {
        "colab": {
          "base_uri": "https://localhost:8080/"
        },
        "collapsed": true,
        "id": "BUtHdIatvSz3",
        "outputId": "8c5b6f5e-1a87-4f97-d76f-e7263c4524b8"
      },
      "execution_count": 17,
      "outputs": [
        {
          "output_type": "stream",
          "name": "stdout",
          "text": [
            "1.8574096572239527\n"
          ]
        }
      ]
    },
    {
      "cell_type": "code",
      "source": [
        "import numpy as np\n",
        "a = np.random.randint(1, 11, size=(2, 2))\n",
        "b = np.random.randint(1, 11, size=(2, 3))\n",
        "print(np.dot(a, b))"
      ],
      "metadata": {
        "colab": {
          "base_uri": "https://localhost:8080/"
        },
        "collapsed": true,
        "id": "IuFSvpgdxQgq",
        "outputId": "d5b1228f-a20e-4fc1-d996-5815de41b6cd"
      },
      "execution_count": 19,
      "outputs": [
        {
          "output_type": "stream",
          "name": "stdout",
          "text": [
            "[[102  98  98]\n",
            " [ 72  96  96]]\n"
          ]
        }
      ]
    },
    {
      "cell_type": "code",
      "source": [
        "import numpy as np\n",
        "a = np.random.randint(1, 11, size=(3, 3))\n",
        "print(np.linalg.inv(a))"
      ],
      "metadata": {
        "colab": {
          "base_uri": "https://localhost:8080/"
        },
        "collapsed": true,
        "id": "gmQlW1_cynYm",
        "outputId": "5c753573-4326-4e26-dab1-84884cf75982"
      },
      "execution_count": 22,
      "outputs": [
        {
          "output_type": "stream",
          "name": "stdout",
          "text": [
            "[[-0.3         0.2         0.25      ]\n",
            " [ 0.07272727 -0.10909091  0.04545455]\n",
            " [ 0.41818182 -0.12727273 -0.36363636]]\n"
          ]
        }
      ]
    },
    {
      "cell_type": "code",
      "source": [
        "import numpy as np\n",
        "a = np.random.rand(4, 4)\n",
        "print(a.T)"
      ],
      "metadata": {
        "colab": {
          "base_uri": "https://localhost:8080/"
        },
        "collapsed": true,
        "id": "gkPemav2zV8G",
        "outputId": "e1719916-506d-4f31-b422-36e87b0faf98"
      },
      "execution_count": 25,
      "outputs": [
        {
          "output_type": "stream",
          "name": "stdout",
          "text": [
            "[[0.91518973 0.06506362 0.97908084 0.68513635]\n",
            " [0.37095109 0.46481914 0.01820696 0.05426704]\n",
            " [0.04367183 0.23164328 0.57224771 0.94859652]\n",
            " [0.13222307 0.17471017 0.7177819  0.75492357]]\n"
          ]
        }
      ]
    },
    {
      "cell_type": "code",
      "source": [
        "import numpy as np\n",
        "a = np.random.randint(1, 11, size=(3, 4))\n",
        "b = np.random.randint(1, 11, size=4)\n",
        "print(np.dot(a, b))"
      ],
      "metadata": {
        "colab": {
          "base_uri": "https://localhost:8080/"
        },
        "id": "9SuRWrDkzmLm",
        "outputId": "fb172f85-29f8-42f5-8356-39a7e39c91fa"
      },
      "execution_count": 27,
      "outputs": [
        {
          "output_type": "stream",
          "name": "stdout",
          "text": [
            "[160  36 123]\n"
          ]
        }
      ]
    },
    {
      "cell_type": "code",
      "source": [
        "import numpy as np\n",
        "a = np.random.rand(2, 3)\n",
        "b = np.random.rand(3)\n",
        "print(np.dot(a, b))"
      ],
      "metadata": {
        "colab": {
          "base_uri": "https://localhost:8080/"
        },
        "collapsed": true,
        "id": "DLAnBp6C0nfw",
        "outputId": "c299fe5f-bfc1-45d0-d398-0f817a7a4ba7"
      },
      "execution_count": 28,
      "outputs": [
        {
          "output_type": "stream",
          "name": "stdout",
          "text": [
            "[0.18665914 0.17273827]\n"
          ]
        }
      ]
    },
    {
      "cell_type": "code",
      "source": [
        "import numpy as np\n",
        "a = np.random.randint(1, 11, size=(2, 2))\n",
        "b = np.random.randint(1, 11, size=(2, 2))\n",
        "print(a*b)"
      ],
      "metadata": {
        "colab": {
          "base_uri": "https://localhost:8080/"
        },
        "collapsed": true,
        "id": "BdvbiIZW08FT",
        "outputId": "8f491dba-e523-45f6-9534-270b410b8a9b"
      },
      "execution_count": 29,
      "outputs": [
        {
          "output_type": "stream",
          "name": "stdout",
          "text": [
            "[[27  9]\n",
            " [ 4 60]]\n"
          ]
        }
      ]
    },
    {
      "cell_type": "code",
      "source": [
        "import numpy as np\n",
        "a = np.random.randint(1, 11, size=(2, 2))\n",
        "b = np.random.randint(1, 11, size=(2, 2))\n",
        "print(np.dot(a, b))"
      ],
      "metadata": {
        "colab": {
          "base_uri": "https://localhost:8080/"
        },
        "collapsed": true,
        "id": "pVMM3qCq1JXQ",
        "outputId": "c55b8a66-d387-4979-9732-70d77be8100b"
      },
      "execution_count": 30,
      "outputs": [
        {
          "output_type": "stream",
          "name": "stdout",
          "text": [
            "[[42 73]\n",
            " [67 73]]\n"
          ]
        }
      ]
    },
    {
      "cell_type": "code",
      "source": [
        "import numpy as np\n",
        "a = np.random.randint(1, 101, size=(5, 5))\n",
        "print(np.sum(a))"
      ],
      "metadata": {
        "colab": {
          "base_uri": "https://localhost:8080/"
        },
        "collapsed": true,
        "id": "KX8pNv7q19pr",
        "outputId": "2fd1843f-7373-4f93-a935-f463f22c2270"
      },
      "execution_count": 31,
      "outputs": [
        {
          "output_type": "stream",
          "name": "stdout",
          "text": [
            "1127\n"
          ]
        }
      ]
    },
    {
      "cell_type": "code",
      "source": [
        "import numpy as np\n",
        "a = np.random.randint(1, 11, size=(4, 4))\n",
        "b = np.random.randint(1, 11, size=(4, 4))\n",
        "print(a-b)"
      ],
      "metadata": {
        "colab": {
          "base_uri": "https://localhost:8080/"
        },
        "collapsed": true,
        "id": "dK1vDMrm2SU8",
        "outputId": "a0d0d756-72f2-4f8a-e7c9-8c9b8e352d2a"
      },
      "execution_count": 32,
      "outputs": [
        {
          "output_type": "stream",
          "name": "stdout",
          "text": [
            "[[ 0  3  0 -3]\n",
            " [-8  5 -4 -3]\n",
            " [-5 -9  5  1]\n",
            " [ 3  0  7 -1]]\n"
          ]
        }
      ]
    },
    {
      "cell_type": "code",
      "source": [
        "import numpy as np\n",
        "a = np.random.rand(3, 3)\n",
        "row_sums = np.sum(a, axis=1)\n",
        "column_vector = row_sums.reshape(-1, 1)\n",
        "print(column_vector)"
      ],
      "metadata": {
        "colab": {
          "base_uri": "https://localhost:8080/"
        },
        "collapsed": true,
        "id": "ZWvfRnFE3En_",
        "outputId": "8b78b973-538c-4ae7-c58f-1d1cb95134fb"
      },
      "execution_count": 35,
      "outputs": [
        {
          "output_type": "stream",
          "name": "stdout",
          "text": [
            "[[1.74167172]\n",
            " [1.12064948]\n",
            " [2.21207806]]\n"
          ]
        }
      ]
    },
    {
      "cell_type": "code",
      "source": [
        "import numpy as np\n",
        "a = np.random.randint(1, 11, size=(3, 4))\n",
        "print(np.square(a))"
      ],
      "metadata": {
        "colab": {
          "base_uri": "https://localhost:8080/"
        },
        "collapsed": true,
        "id": "Yqhj7ErJ3pG2",
        "outputId": "3750827f-8af3-4be2-ceed-6ef6ae5f6637"
      },
      "execution_count": 37,
      "outputs": [
        {
          "output_type": "stream",
          "name": "stdout",
          "text": [
            "[[ 25   9  36  64]\n",
            " [ 81   9  64  49]\n",
            " [100  49  36 100]]\n"
          ]
        }
      ]
    },
    {
      "cell_type": "code",
      "source": [
        "import numpy as np\n",
        "a = np.random.randint(1, 51, size=4)\n",
        "print(np.sqrt(a))"
      ],
      "metadata": {
        "colab": {
          "base_uri": "https://localhost:8080/"
        },
        "collapsed": true,
        "id": "jgnL_GNE360s",
        "outputId": "fc719b57-8752-487a-b918-17000348c189"
      },
      "execution_count": 38,
      "outputs": [
        {
          "output_type": "stream",
          "name": "stdout",
          "text": [
            "[3.74165739 5.         6.78232998 3.87298335]\n"
          ]
        }
      ]
    }
  ]
}